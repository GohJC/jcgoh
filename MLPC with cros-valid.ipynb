{
 "cells": [
  {
   "cell_type": "code",
   "execution_count": 1,
   "id": "293f061b",
   "metadata": {},
   "outputs": [],
   "source": [
    "import numpy as np\n",
    "import pandas as pd\n",
    "import matplotlib.pyplot as plt\n",
    "%matplotlib inline\n",
    "import seaborn as sns"
   ]
  },
  {
   "cell_type": "code",
   "execution_count": 2,
   "id": "fe655730",
   "metadata": {},
   "outputs": [],
   "source": [
    "import pandas as pd\n",
    "\n",
    "train=pd.read_csv('C:/Users/Jcgoh/Desktop/school/1 Degree Sem 2/Machine learning/lab/lab9/train.csv')\n",
    "test=pd.read_csv('C:/Users/Jcgoh/Desktop/school/1 Degree Sem 2/Machine learning/lab/lab9/test.csv')"
   ]
  },
  {
   "cell_type": "code",
   "execution_count": 3,
   "id": "c8865334",
   "metadata": {},
   "outputs": [
    {
     "name": "stdout",
     "output_type": "stream",
     "text": [
      "(60000, 785)\n",
      "(10000, 784)\n"
     ]
    }
   ],
   "source": [
    "print(train.shape)\n",
    "print(test.shape)"
   ]
  },
  {
   "cell_type": "code",
   "execution_count": 4,
   "id": "f71a9d65",
   "metadata": {},
   "outputs": [],
   "source": [
    "x_train = train.drop('label',axis=1)\n",
    "y_train = train['label']"
   ]
  },
  {
   "cell_type": "code",
   "execution_count": 5,
   "id": "53965c01",
   "metadata": {},
   "outputs": [],
   "source": [
    "x_test=test"
   ]
  },
  {
   "cell_type": "code",
   "execution_count": 6,
   "id": "ddf112e8",
   "metadata": {},
   "outputs": [],
   "source": [
    "x_train=x_train/255\n",
    "x_test=x_test/255"
   ]
  },
  {
   "cell_type": "code",
   "execution_count": null,
   "id": "94099f84",
   "metadata": {},
   "outputs": [],
   "source": [
    "from sklearn.neural_network import MLPClassifier\n",
    "from sklearn.model_selection import GridSearchCV\n",
    "\n",
    "parameters = {\n",
    "    'hidden_layer_sizes': [(100, 100), (200, 200), (500, 500)],\n",
    "    'max_iter': [1000, 2000, 5000],\n",
    "    'random_state': [42]\n",
    "}\n",
    "\n",
    "mlp = MLPClassifier(random_state=42)\n",
    "\n",
    "grid_search = GridSearchCV(mlp, parameters, cv=5)\n",
    "grid_search.fit(x_train, y_train)\n",
    "\n",
    "best_params = grid_search.best_params_\n",
    "print(\"Best parameters:\", best_params)\n",
    "\n",
    "# Train the model with the best parameters\n",
    "mlp_best = MLPClassifier(**best_params)\n",
    "mlp_best.fit(x_train, y_train)\n",
    "\n",
    "pred = mlp_best.predict(x_test)"
   ]
  },
  {
   "cell_type": "code",
   "execution_count": null,
   "id": "499a9be0",
   "metadata": {},
   "outputs": [],
   "source": [
    "ID = '1201201564'\n",
    "\n",
    "algo = \"SVM - \"\n",
    "\n",
    "id=np.arange(1,10001)\n",
    "\n",
    "d = {'ID':id,'label':pred}\n",
    "\n",
    "df = pd.DataFrame(data=d)\n",
    "\n",
    "df.to_csv('C:/Users/Jcgoh/Desktop/school/1 Degree Sem 2/Machine learning/try/'+algo+ID+\".csv\",index=False)"
   ]
  },
  {
   "cell_type": "code",
   "execution_count": null,
   "id": "0174777b",
   "metadata": {},
   "outputs": [],
   "source": []
  }
 ],
 "metadata": {
  "kernelspec": {
   "display_name": "Python 3 (ipykernel)",
   "language": "python",
   "name": "python3"
  },
  "language_info": {
   "codemirror_mode": {
    "name": "ipython",
    "version": 3
   },
   "file_extension": ".py",
   "mimetype": "text/x-python",
   "name": "python",
   "nbconvert_exporter": "python",
   "pygments_lexer": "ipython3",
   "version": "3.9.7"
  }
 },
 "nbformat": 4,
 "nbformat_minor": 5
}

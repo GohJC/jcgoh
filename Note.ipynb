{
 "cells": [
  {
   "cell_type": "code",
   "execution_count": null,
   "id": "10a418c9",
   "metadata": {},
   "outputs": [],
   "source": [
    "#main import\n",
    "import numpy as py\n",
    "import pandas as pd\n",
    "\n",
    "import matplotlib.pyplot as plt\n",
    "%matplotlib inline\n",
    "\n",
    "import seaborn as sns"
   ]
  },
  {
   "cell_type": "code",
   "execution_count": null,
   "id": "69e0e646",
   "metadata": {},
   "outputs": [],
   "source": [
    "#import data\n",
    "data = pd.read_csv(\"C:/Users/USER/Desktop/datasets/titanic_train.csv\")\n",
    "\n",
    "#colab\n",
    "from google.colab import drive\n",
    "drive.mount('/content/drive')\n",
    "data = pd.read_csv(\"path...\")\n",
    "\n",
    "#show table\n",
    "data.head()\n",
    "\n",
    "#show info\n",
    "data.info()\n",
    "\n",
    "#the other way to check the data with diagrame\n",
    "sns.heatmap(data.isnull(),yticklabels=False,cmap='viridis')\n"
   ]
  },
  {
   "cell_type": "code",
   "execution_count": null,
   "id": "275fe48f",
   "metadata": {},
   "outputs": [],
   "source": [
    "#delete the category/label if  having less data\n",
    "\n",
    "#check the label\n",
    "house['ocean_proximity'].value_counts()\n",
    "\n",
    "#colect the index id for the less data\n",
    "indexID = house[house['ocean_proximity']== 'ISLAND'].index\n",
    "\n",
    "#drop it \n",
    "house = house.drop(indexID)\n",
    "\n",
    "#drop the less column\n",
    "data.drop('Cabin',axis=1,inplace=True)\n",
    "\n",
    "#if the value less some delete some row to make the data equal\n",
    "\n",
    "#the code to delete some value to make it balance\n",
    "data.dropna(inplace=True)\n",
    "\n",
    "#drop the data that not use.\n",
    "\n",
    "#change the format object data type format\n",
    "\n",
    "#code to change the expand the object type and turn type\n",
    "data = pd.concat([data,sex,embarked],axis=1)"
   ]
  },
  {
   "cell_type": "code",
   "execution_count": null,
   "id": "e7bad0c6",
   "metadata": {},
   "outputs": [],
   "source": [
    "#replace the data if having missing value. It replace all of the value\n",
    "#find the median and replace it\n",
    "#set the value to a new array\n",
    "sample_missingvalue = x_train[x_train.isnull().any(axis=1)]\n",
    "\n",
    "sample_missingvalue.dropna(subset = ['total_bedrooms'])\n",
    "\n",
    "sample_missingvalue.drop(\"total_bedrooms\",axis=1)\n",
    "\n",
    "med = x_train['total_bedrooms'].median()\n",
    "med\n",
    "\n",
    "sample_missingvalue['total_bedrooms'].fillna(med,inplace = True)"
   ]
  },
  {
   "cell_type": "code",
   "execution_count": null,
   "id": "fc6f54da",
   "metadata": {},
   "outputs": [],
   "source": [
    "#y is the label value\n",
    "#set the data to the X,y \n",
    "#delete the label when add data to the X \n",
    "X=data.drop('Survived',axis=1)\n",
    "y=data['Survived']"
   ]
  },
  {
   "cell_type": "code",
   "execution_count": null,
   "id": "f1224ea4",
   "metadata": {},
   "outputs": [],
   "source": [
    "#split data\n",
    "from sklearn.model_selection import train_test_split\n",
    "\n",
    "x_train,x_test,y_train,y_test = train_test_split(X,y,test_size = 0.2,random_state=101)"
   ]
  },
  {
   "cell_type": "code",
   "execution_count": null,
   "id": "355076cf",
   "metadata": {},
   "outputs": [],
   "source": [
    "#for the photo ?\n",
    "x_train_flat = x_train.reshape(-1,50*50*3)\n",
    "x_test_flat = x_test.reshape(-1,50*50*3)\n",
    "\n",
    "x_train = x_train /255\n",
    "x_test = x_test /255"
   ]
  },
  {
   "cell_type": "code",
   "execution_count": null,
   "id": "954d7e7e",
   "metadata": {},
   "outputs": [],
   "source": [
    "#Perceptron\n",
    "from sklearn.linear_model import Perceptron\n",
    "from sklearn.metrics import accuracy_score\n",
    "\n",
    "p = Perceptron(max_iter = 1000,random_state = 42)\n",
    "\n",
    "p.fit(x_train,y_train)\n",
    "\n",
    "pred_train = p.predict(x_train)\n",
    "print(\"Training accuracy: \",accuracy_score(y_train,pred_train))\n",
    "\n",
    "pred_test = p.predict(x_test)\n",
    "print(\"Testing accuracy: \",accuracy_score(y_test,pred_test))"
   ]
  },
  {
   "cell_type": "code",
   "execution_count": null,
   "id": "41a178bb",
   "metadata": {},
   "outputs": [],
   "source": [
    "#MLPC\n",
    "from sklearn.neural_network import MLPClassifier\n",
    "from sklearn.metrics import accuracy_score\n",
    "\n",
    "mlp = MLPClassifier(hidden_layer_sizes=(100,50),max_iter = 2000,\n",
    "                    random_state = 42)\n",
    "\n",
    "mlp.fit(x_train,y_train)\n",
    "\n",
    "pred_train = mlp.predict(x_train)\n",
    "print(\"Training accuracy: \",accuracy_score(y_train,pred_train))\n",
    "\n",
    "pred_test = mlp.predict(x_test)\n",
    "print(\"Testing accuracy: \",accuracy_score(y_test,pred_test))"
   ]
  },
  {
   "cell_type": "code",
   "execution_count": null,
   "id": "b4e0e03a",
   "metadata": {},
   "outputs": [],
   "source": [
    "#LogisticRegression\n",
    "from sklearn.linear_model import LogisticRegression\n",
    "\n",
    "lr = LogisticRegression(max_iter = 3000)\n",
    "\n",
    "lr.fit(x_train,y_train)\n",
    "\n",
    "y_pred = lr.predict(x_test)"
   ]
  },
  {
   "cell_type": "code",
   "execution_count": null,
   "id": "2acd8193",
   "metadata": {},
   "outputs": [],
   "source": [
    "#KNN\n",
    "\n",
    "from sklearn.metrics import accuracy_score\n",
    "from sklearn.neighbors import KNeighborsClassifier\n",
    "\n",
    "knn = KNeighborsClassifier(n_neighbors = 1)\n",
    "\n",
    "knn.fit(x_train,y_train)\n",
    "\n",
    "pred_train = knn.predict(x_train)\n",
    "print(\"Training accuracy: \",accuracy_score(y_train,pred_train))\n",
    "\n",
    "pred_test = knn.predict(x_test)\n",
    "print(\"Testing accuracy: \",accuracy_score(y_test,pred_test))"
   ]
  },
  {
   "cell_type": "code",
   "execution_count": null,
   "id": "511aa330",
   "metadata": {},
   "outputs": [],
   "source": [
    "#DecisionTreeClassifier\n",
    "from sklearn.metrics import accuracy_score\n",
    "from sklearn.tree import DecisionTreeClassifier\n",
    "\n",
    "dt = DecisionTreeClassifier(max_depth = 2,min_samples_leaf = 4,random_state = 42)\n",
    "\n",
    "dt.fit(x_train,y_train)\n",
    "\n",
    "pred_train = dt.predict(x_train)\n",
    "print(\"Training accuracy: \",accuracy_score(y_train,pred_train))\n",
    "\n",
    "pred_test = dt.predict(x_test)\n",
    "print(\"Testing accuracy: \",accuracy_score(y_test,pred_test))"
   ]
  },
  {
   "cell_type": "code",
   "execution_count": null,
   "id": "6e779892",
   "metadata": {},
   "outputs": [],
   "source": [
    "#BaggingClassifier\n",
    "from sklearn.metrics import accuracy_score\n",
    "from sklearn.ensemble import BaggingClassifier\n",
    "from sklearn.neighbors import KNeighborsClassifier\n",
    "\n",
    "knn = KNeighborsClassifier(n_neighbors = 3)\n",
    "bag = BaggingClassifier(knn,n_estimators = 20,max_samples =0.5)\n",
    "\n",
    "\n",
    "bag.fit(x_train,y_train)\n",
    "\n",
    "pred_train = dt.predict(x_train)\n",
    "print(\"Training accuracy: \",accuracy_score(y_train,pred_train))\n",
    "\n",
    "pred_test = dt.predict(x_test)\n",
    "print(\"Testing accuracy: \",accuracy_score(y_test,pred_test))"
   ]
  },
  {
   "cell_type": "code",
   "execution_count": null,
   "id": "2c1c0533",
   "metadata": {},
   "outputs": [],
   "source": [
    "#RandomForestClassifier\n",
    "from sklearn.metrics import accuracy_score\n",
    "from sklearn.ensemble import RandomForestClassifier\n",
    "\n",
    "rf = RandomForestClassifier(n_estimators = 20,max_samples =0.9)\n",
    "\n",
    "rf.fit(x_train,y_train)\n",
    "\n",
    "pred_train = rf.predict(x_train)\n",
    "print(\"Training accuracy: \",accuracy_score(y_train,pred_train))\n",
    "\n",
    "pred_test = rf.predict(x_test)\n",
    "print(\"Testing accuracy: \",accuracy_score(y_test,pred_test))"
   ]
  },
  {
   "cell_type": "code",
   "execution_count": null,
   "id": "edf2521f",
   "metadata": {},
   "outputs": [],
   "source": [
    "#AdaBoostClassifier\n",
    "from sklearn.metrics import accuracy_score\n",
    "from sklearn.ensemble import AdaBoostClassifier\n",
    "from sklearn.tree import DecisionTreeClassifier\n",
    "\n",
    "dt = DecisionTreeClassifier(max_depth = 2,min_samples_leaf = 4,random_state = 42)\n",
    "\n",
    "\n",
    "ada = AdaBoostClassifier(dt,n_estimators = 20)\n",
    "\n",
    "\n",
    "ada.fit(x_train,y_train)\n",
    "\n",
    "pred_train = ada.predict(x_train)\n",
    "print(\"Training accuracy: \",accuracy_score(y_train,pred_train))\n",
    "\n",
    "pred_test = ada.predict(x_test)\n",
    "print(\"Testing accuracy: \",accuracy_score(y_test,pred_test))"
   ]
  },
  {
   "cell_type": "code",
   "execution_count": null,
   "id": "cab55c37",
   "metadata": {},
   "outputs": [],
   "source": [
    "#SVC\n",
    "from sklearn.svm import SVC\n",
    "from sklearn.metrics import accuracy_score\n",
    "\n",
    "svc = SVC(C=100,kernel='rbf',gamma='auto')\n",
    "\n",
    "svc.fit(x_train,y_train)\n",
    "\n",
    "pred_train=svc.predict(x_train)\n",
    "print(\"Training accuracy:\",accuracy_score(y_train,pred_train))\n",
    "\n",
    "pred_test=svc.predict(x_test)\n",
    "print(\"Testing accuracy:\",accuracy_score(y_test,pred_test))"
   ]
  },
  {
   "cell_type": "code",
   "execution_count": null,
   "id": "4e60c2be",
   "metadata": {},
   "outputs": [],
   "source": [
    "#LDA reduce some value\n",
    "from sklearn.discriminant_analysis import LinearDiscriminantAnalysis \n",
    "lda = LinearDiscriminantAnalysis(n_components=5)\n",
    "\n",
    "lda.fit(X_train, y_train)\n",
    "X_train_lda = lda.transform(X_train)\n",
    "X_test_lda = lda.transform(X_test)"
   ]
  },
  {
   "cell_type": "code",
   "execution_count": null,
   "id": "6170031e",
   "metadata": {},
   "outputs": [],
   "source": [
    "#export the csv file\n",
    "ID = '1201200793' #student id\n",
    "\n",
    "id = np.arange(1,10001)\n",
    "\n",
    "d = {'ID':id,'label':pred}\n",
    "\n",
    "df = pd.DataFrame(data = d)\n",
    "\n",
    "#for google colab, specified PATH\n",
    "df.to_csv('/content/drive/MyDrive/......' + ID + '.csv', index=False)\n",
    "\n",
    "#for jupyter\n",
    "df.to_csv(ID + \".csv\",index=False)"
   ]
  }
 ],
 "metadata": {
  "kernelspec": {
   "display_name": "Python 3 (ipykernel)",
   "language": "python",
   "name": "python3"
  },
  "language_info": {
   "codemirror_mode": {
    "name": "ipython",
    "version": 3
   },
   "file_extension": ".py",
   "mimetype": "text/x-python",
   "name": "python",
   "nbconvert_exporter": "python",
   "pygments_lexer": "ipython3",
   "version": "3.9.13"
  }
 },
 "nbformat": 4,
 "nbformat_minor": 5
}

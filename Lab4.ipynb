{
 "cells": [
  {
   "cell_type": "code",
   "execution_count": 1,
   "id": "15467ee4",
   "metadata": {},
   "outputs": [],
   "source": [
    "class FirstCLass:\n",
    "    \"\"\"This is an empty class\"\"\"\n",
    "    pass"
   ]
  },
  {
   "cell_type": "code",
   "execution_count": 3,
   "id": "deba85e8",
   "metadata": {},
   "outputs": [],
   "source": [
    "fc1 = FirstCLass()"
   ]
  },
  {
   "cell_type": "code",
   "execution_count": 4,
   "id": "baa45e0e",
   "metadata": {},
   "outputs": [
    {
     "data": {
      "text/plain": [
       "__main__.FirstCLass"
      ]
     },
     "execution_count": 4,
     "metadata": {},
     "output_type": "execute_result"
    }
   ],
   "source": [
    "type(fc1)"
   ]
  },
  {
   "cell_type": "code",
   "execution_count": 5,
   "id": "f0af476d",
   "metadata": {},
   "outputs": [
    {
     "data": {
      "text/plain": [
       "type"
      ]
     },
     "execution_count": 5,
     "metadata": {},
     "output_type": "execute_result"
    }
   ],
   "source": [
    "type(FirstCLass)"
   ]
  },
  {
   "cell_type": "code",
   "execution_count": 6,
   "id": "13341692",
   "metadata": {},
   "outputs": [
    {
     "name": "stdout",
     "output_type": "stream",
     "text": [
      "x in obj1:  2  ;x in obj2:  3 ; global x: 5\n"
     ]
    }
   ],
   "source": [
    "obj1 = FirstCLass()\n",
    "obj2 = FirstCLass()\n",
    "\n",
    "obj1.x = 2\n",
    "obj2.x = 3\n",
    "x = 5\n",
    "\n",
    "print(\"x in obj1: \",obj1.x,\" ;x in obj2: \",obj2.x,\"; global x:\",x)"
   ]
  },
  {
   "cell_type": "code",
   "execution_count": 7,
   "id": "f366d2dc",
   "metadata": {},
   "outputs": [],
   "source": [
    "class Counter:\n",
    "    def reset(self, init=0):\n",
    "        self.count = init\n",
    "    def getcount(self):\n",
    "        self.count += 1\n",
    "        return self.count\n",
    "    "
   ]
  },
  {
   "cell_type": "code",
   "execution_count": 8,
   "id": "5a4a21dc",
   "metadata": {},
   "outputs": [],
   "source": [
    "count1 = Counter()"
   ]
  },
  {
   "cell_type": "code",
   "execution_count": 9,
   "id": "a3f81e72",
   "metadata": {},
   "outputs": [],
   "source": [
    "count1.reset(0)"
   ]
  },
  {
   "cell_type": "code",
   "execution_count": 11,
   "id": "8271dd17",
   "metadata": {},
   "outputs": [
    {
     "data": {
      "text/plain": [
       "1"
      ]
     },
     "execution_count": 11,
     "metadata": {},
     "output_type": "execute_result"
    }
   ],
   "source": [
    "count1.getcount()"
   ]
  },
  {
   "cell_type": "code",
   "execution_count": 12,
   "id": "d29395f8",
   "metadata": {},
   "outputs": [
    {
     "data": {
      "text/plain": [
       "2"
      ]
     },
     "execution_count": 12,
     "metadata": {},
     "output_type": "execute_result"
    }
   ],
   "source": [
    "count1.getcount()\n"
   ]
  },
  {
   "cell_type": "code",
   "execution_count": 13,
   "id": "8f90c520",
   "metadata": {},
   "outputs": [
    {
     "data": {
      "text/plain": [
       "3"
      ]
     },
     "execution_count": 13,
     "metadata": {},
     "output_type": "execute_result"
    }
   ],
   "source": [
    "count1.getcount()"
   ]
  },
  {
   "cell_type": "code",
   "execution_count": 39,
   "id": "bec7a665",
   "metadata": {},
   "outputs": [],
   "source": [
    "class SecondClass():\n",
    "    \n",
    "    test = \"testing\"\n",
    "    \n",
    "    def __init__(self,name,symbol):\n",
    "        self.name = name\n",
    "        self.symbol = symbol\n",
    "    "
   ]
  },
  {
   "cell_type": "code",
   "execution_count": 26,
   "id": "6ed2691f",
   "metadata": {},
   "outputs": [],
   "source": [
    "sc1 = SecondClass(\"one\",1)\n",
    "sc2 = SecondClass(\"two\",2)"
   ]
  },
  {
   "cell_type": "code",
   "execution_count": 41,
   "id": "e8e00394",
   "metadata": {},
   "outputs": [],
   "source": [
    "sc3 = SecondClass(\"three\",3)"
   ]
  },
  {
   "cell_type": "code",
   "execution_count": 27,
   "id": "c9a9837e",
   "metadata": {},
   "outputs": [
    {
     "name": "stdout",
     "output_type": "stream",
     "text": [
      "one 1\n",
      "two 2\n"
     ]
    }
   ],
   "source": [
    "print(sc1.name,sc1.symbol)\n",
    "print(sc2.name,sc2.symbol)"
   ]
  },
  {
   "cell_type": "code",
   "execution_count": 42,
   "id": "7eab9afc",
   "metadata": {},
   "outputs": [
    {
     "name": "stdout",
     "output_type": "stream",
     "text": [
      "three 3 testing\n"
     ]
    }
   ],
   "source": [
    "print(sc3.name,sc3.symbol,sc3.test)"
   ]
  },
  {
   "cell_type": "code",
   "execution_count": 22,
   "id": "bfba2544",
   "metadata": {},
   "outputs": [
    {
     "data": {
      "text/plain": [
       "['__class__',\n",
       " '__delattr__',\n",
       " '__dict__',\n",
       " '__dir__',\n",
       " '__doc__',\n",
       " '__eq__',\n",
       " '__format__',\n",
       " '__ge__',\n",
       " '__getattribute__',\n",
       " '__gt__',\n",
       " '__hash__',\n",
       " '__init__',\n",
       " '__init_subclass__',\n",
       " '__le__',\n",
       " '__lt__',\n",
       " '__module__',\n",
       " '__ne__',\n",
       " '__new__',\n",
       " '__reduce__',\n",
       " '__reduce_ex__',\n",
       " '__repr__',\n",
       " '__setattr__',\n",
       " '__sizeof__',\n",
       " '__str__',\n",
       " '__subclasshook__',\n",
       " '__weakref__',\n",
       " 'count',\n",
       " 'getcount',\n",
       " 'reset']"
      ]
     },
     "execution_count": 22,
     "metadata": {},
     "output_type": "execute_result"
    }
   ],
   "source": [
    "dir(count1)"
   ]
  },
  {
   "cell_type": "code",
   "execution_count": 31,
   "id": "88227697",
   "metadata": {},
   "outputs": [],
   "source": [
    "class SoftwareEngineer:\n",
    "    def __init__(self,name,age):\n",
    "        self.name = name\n",
    "        self.age = age\n",
    "    def salary(self,amount):\n",
    "        self.money  = amount\n",
    "        print(self.name,\"earns\",self.money)"
   ]
  },
  {
   "cell_type": "code",
   "execution_count": 32,
   "id": "42da286b",
   "metadata": {},
   "outputs": [],
   "source": [
    "sel = SoftwareEngineer(\"Ali\",25)"
   ]
  },
  {
   "cell_type": "code",
   "execution_count": 33,
   "id": "bdecec93",
   "metadata": {},
   "outputs": [
    {
     "name": "stdout",
     "output_type": "stream",
     "text": [
      "Ali earns 48000\n"
     ]
    }
   ],
   "source": [
    "sel.salary(48000)"
   ]
  },
  {
   "cell_type": "code",
   "execution_count": 36,
   "id": "e1c73782",
   "metadata": {},
   "outputs": [],
   "source": [
    "class AIEngineer:\n",
    "    def __init__(self,name,age):\n",
    "        self.name = name\n",
    "        self.age = age\n",
    "    def salary(self,amount):\n",
    "        self.money  = amount\n",
    "        print(self.name,\"earns\",self.money)\n",
    "        \n",
    "    def AIjob(self,job):\n",
    "        self.job = job\n",
    "        print(self.name,\"is a\",self.job)"
   ]
  },
  {
   "cell_type": "code",
   "execution_count": 37,
   "id": "c2a63188",
   "metadata": {},
   "outputs": [
    {
     "name": "stdout",
     "output_type": "stream",
     "text": [
      "Bob earns 1000000\n",
      "Bob is a Data Scientist\n"
     ]
    }
   ],
   "source": [
    "AI1 = AIEngineer(\"Bob\",28)\n",
    "AI1.salary(1000000)\n",
    "AI1.AIjob(\"Data Scientist\")"
   ]
  },
  {
   "cell_type": "code",
   "execution_count": 43,
   "id": "dba35219",
   "metadata": {},
   "outputs": [],
   "source": [
    "class AIEngineer(SoftwareEngineer):        \n",
    "    def AIjob(self,job):\n",
    "        self.job = job\n",
    "        print(self.name,\"is a\",self.job)"
   ]
  },
  {
   "cell_type": "code",
   "execution_count": 44,
   "id": "c86ec2fc",
   "metadata": {},
   "outputs": [
    {
     "name": "stdout",
     "output_type": "stream",
     "text": [
      "Bob earns 1000000\n",
      "Bob is a Data Scientist\n"
     ]
    }
   ],
   "source": [
    "AI1 = AIEngineer(\"Bob\",28)\n",
    "AI1.salary(1000000)\n",
    "AI1.AIjob(\"Data Scientist\")"
   ]
  },
  {
   "cell_type": "code",
   "execution_count": 45,
   "id": "009d4f2b",
   "metadata": {},
   "outputs": [
    {
     "name": "stdout",
     "output_type": "stream",
     "text": [
      "carol earns 7000\n",
      "carol is a Machine Learning Engineer\n"
     ]
    }
   ],
   "source": [
    "AI1 = AIEngineer(\"carol\",23)\n",
    "AI1.salary(7000)\n",
    "AI1.AIjob(\"Machine Learning Engineer\")"
   ]
  },
  {
   "cell_type": "code",
   "execution_count": 46,
   "id": "d6216574",
   "metadata": {},
   "outputs": [],
   "source": [
    "class AIEngineer(SoftwareEngineer):   \n",
    "    def salary(self,amount):\n",
    "        self.money  = amount\n",
    "        print(self.name,\"earns\",self.money,\"per month\")\n",
    "    def AIjob(self,job):\n",
    "        self.job = job\n",
    "        print(self.name,\"is a\",self.job)"
   ]
  },
  {
   "cell_type": "code",
   "execution_count": 47,
   "id": "4555695b",
   "metadata": {},
   "outputs": [
    {
     "name": "stdout",
     "output_type": "stream",
     "text": [
      "Dale earns 8000 per month\n",
      "Dale is a Computer Vision Engineer\n"
     ]
    }
   ],
   "source": [
    "AI3 = AIEngineer(\"Dale\",26)\n",
    "AI3.salary(8000)\n",
    "AI3.AIjob(\"Computer Vision Engineer\")"
   ]
  },
  {
   "cell_type": "code",
   "execution_count": 48,
   "id": "9ff3cd45",
   "metadata": {},
   "outputs": [],
   "source": [
    "import numpy as np"
   ]
  },
  {
   "cell_type": "code",
   "execution_count": 50,
   "id": "d9c3b735",
   "metadata": {},
   "outputs": [],
   "source": [
    "x = np.array([1,2,3,4,5])"
   ]
  },
  {
   "cell_type": "code",
   "execution_count": 51,
   "id": "2143c609",
   "metadata": {},
   "outputs": [
    {
     "data": {
      "text/plain": [
       "numpy.ndarray"
      ]
     },
     "execution_count": 51,
     "metadata": {},
     "output_type": "execute_result"
    }
   ],
   "source": [
    "type(x)"
   ]
  },
  {
   "cell_type": "code",
   "execution_count": 53,
   "id": "2f935e87",
   "metadata": {},
   "outputs": [
    {
     "data": {
      "text/plain": [
       "array([ 2,  4,  6,  8, 10])"
      ]
     },
     "execution_count": 53,
     "metadata": {},
     "output_type": "execute_result"
    }
   ],
   "source": [
    "y = np.array([i*2 for i in x])\n",
    "y"
   ]
  },
  {
   "cell_type": "code",
   "execution_count": 54,
   "id": "945c3cb9",
   "metadata": {},
   "outputs": [
    {
     "data": {
      "text/plain": [
       "array([[1, 2],\n",
       "       [3, 4]])"
      ]
     },
     "execution_count": 54,
     "metadata": {},
     "output_type": "execute_result"
    }
   ],
   "source": [
    "z = x[0:4].reshape(2,2)\n",
    "z\n"
   ]
  },
  {
   "cell_type": "code",
   "execution_count": 55,
   "id": "5b3f9b77",
   "metadata": {},
   "outputs": [
    {
     "data": {
      "text/plain": [
       "array([[2, 4],\n",
       "       [6, 8]])"
      ]
     },
     "execution_count": 55,
     "metadata": {},
     "output_type": "execute_result"
    }
   ],
   "source": [
    "2*z "
   ]
  },
  {
   "cell_type": "code",
   "execution_count": 56,
   "id": "64b54a81",
   "metadata": {},
   "outputs": [],
   "source": [
    "m = np.matrix(z)"
   ]
  },
  {
   "cell_type": "code",
   "execution_count": 57,
   "id": "56f1d7c2",
   "metadata": {},
   "outputs": [
    {
     "data": {
      "text/plain": [
       "numpy.matrix"
      ]
     },
     "execution_count": 57,
     "metadata": {},
     "output_type": "execute_result"
    }
   ],
   "source": [
    "type(m)"
   ]
  },
  {
   "cell_type": "code",
   "execution_count": 58,
   "id": "02153715",
   "metadata": {},
   "outputs": [
    {
     "data": {
      "text/plain": [
       "matrix([[1, 2],\n",
       "        [3, 4]])"
      ]
     },
     "execution_count": 58,
     "metadata": {},
     "output_type": "execute_result"
    }
   ],
   "source": [
    "m"
   ]
  },
  {
   "cell_type": "code",
   "execution_count": 59,
   "id": "259ed1b6",
   "metadata": {},
   "outputs": [
    {
     "data": {
      "text/plain": [
       "array([[ 1,  4],\n",
       "       [ 9, 16]])"
      ]
     },
     "execution_count": 59,
     "metadata": {},
     "output_type": "execute_result"
    }
   ],
   "source": [
    "z*z"
   ]
  },
  {
   "cell_type": "code",
   "execution_count": 60,
   "id": "308589d5",
   "metadata": {},
   "outputs": [
    {
     "data": {
      "text/plain": [
       "matrix([[ 7, 10],\n",
       "        [15, 22]])"
      ]
     },
     "execution_count": 60,
     "metadata": {},
     "output_type": "execute_result"
    }
   ],
   "source": [
    "m*m"
   ]
  },
  {
   "cell_type": "code",
   "execution_count": 61,
   "id": "9c14f78f",
   "metadata": {},
   "outputs": [
    {
     "data": {
      "text/plain": [
       "matrix([[2, 4],\n",
       "        [6, 8]])"
      ]
     },
     "execution_count": 61,
     "metadata": {},
     "output_type": "execute_result"
    }
   ],
   "source": [
    "m+m"
   ]
  },
  {
   "cell_type": "code",
   "execution_count": 62,
   "id": "9df814e6",
   "metadata": {},
   "outputs": [
    {
     "data": {
      "text/plain": [
       "array([[2, 4],\n",
       "       [6, 8]])"
      ]
     },
     "execution_count": 62,
     "metadata": {},
     "output_type": "execute_result"
    }
   ],
   "source": [
    "z+z"
   ]
  },
  {
   "cell_type": "code",
   "execution_count": 64,
   "id": "59fe9540",
   "metadata": {},
   "outputs": [],
   "source": [
    "import matplotlib.pyplot as plt\n",
    "%matplotlib inline"
   ]
  },
  {
   "cell_type": "code",
   "execution_count": 65,
   "id": "7e294619",
   "metadata": {},
   "outputs": [
    {
     "data": {
      "image/png": "[encoded data removed]",
      "text/plain": [
       "<Figure size 640x480 with 1 Axes>"
      ]
     },
     "metadata": {},
     "output_type": "display_data"
    }
   ],
   "source": [
    "x = np.linspace(-np.pi,np.pi,256)\n",
    "y = np.sin(x)\n",
    "\n",
    "plt.plot(x,y)\n",
    "plt.show()"
   ]
  },
  {
   "cell_type": "code",
   "execution_count": 66,
   "id": "0af9875b",
   "metadata": {},
   "outputs": [
    {
     "data": {
      "text/plain": [
       "(256,)"
      ]
     },
     "execution_count": 66,
     "metadata": {},
     "output_type": "execute_result"
    }
   ],
   "source": [
    "x.shape"
   ]
  },
  {
   "cell_type": "code",
   "execution_count": 67,
   "id": "61978c50",
   "metadata": {},
   "outputs": [
    {
     "data": {
      "text/plain": [
       "(256,)"
      ]
     },
     "execution_count": 67,
     "metadata": {},
     "output_type": "execute_result"
    }
   ],
   "source": [
    "y.shape"
   ]
  },
  {
   "cell_type": "code",
   "execution_count": 68,
   "id": "b95154f9",
   "metadata": {},
   "outputs": [
    {
     "data": {
      "image/png": "[encoded data removed]",
      "text/plain": [
       "<Figure size 640x480 with 1 Axes>"
      ]
     },
     "metadata": {},
     "output_type": "display_data"
    }
   ],
   "source": [
    "x = np.linspace(-np.pi,np.pi,256)\n",
    "y1 = np.sin(x)\n",
    "y2 = np.cos(x)\n",
    "\n",
    "\n",
    "plt.plot(x,y1)\n",
    "plt.plot(x,y2)\n",
    "plt.show()"
   ]
  },
  {
   "cell_type": "code",
   "execution_count": 74,
   "id": "a6e61f51",
   "metadata": {},
   "outputs": [
    {
     "data": {
      "image/png": "[encoded data removed]",
      "text/plain": [
       "<Figure size 640x480 with 1 Axes>"
      ]
     },
     "metadata": {},
     "output_type": "display_data"
    }
   ],
   "source": [
    "x = np.arange(0,5,0.01)\n",
    "y = np.cos(2*np.pi*x)\n",
    "\n",
    "line, = plt.plot(x,y,lw=2)\n",
    "plt.annotate('local max',xy = (2,1),xytext = (3,1.5), arrowprops = dict(facecolor = 'black',shrink = 0.05))\n",
    "\n",
    "plt.text(1,-1.5,r\"Graph of $cos(2/pi x)$\")\n",
    "plt.ylim(-2,2)\n",
    "plt.show()"
   ]
  },
  {
   "cell_type": "code",
   "execution_count": null,
   "id": "940e1717",
   "metadata": {},
   "outputs": [],
   "source": []
  }
 ],
 "metadata": {
  "kernelspec": {
   "display_name": "Python 3 (ipykernel)",
   "language": "python",
   "name": "python3"
  },
  "language_info": {
   "codemirror_mode": {
    "name": "ipython",
    "version": 3
   },
   "file_extension": ".py",
   "mimetype": "text/x-python",
   "name": "python",
   "nbconvert_exporter": "python",
   "pygments_lexer": "ipython3",
   "version": "3.9.13"
  }
 },
 "nbformat": 4,
 "nbformat_minor": 5
}

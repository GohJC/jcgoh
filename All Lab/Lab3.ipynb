{
 "cells": [
  {
   "cell_type": "code",
   "execution_count": 1,
   "id": "71a9c593",
   "metadata": {},
   "outputs": [],
   "source": [
    "x = 3"
   ]
  },
  {
   "cell_type": "code",
   "execution_count": 3,
   "id": "012941c2",
   "metadata": {},
   "outputs": [
    {
     "name": "stdout",
     "output_type": "stream",
     "text": [
      "x <= 5\n"
     ]
    }
   ],
   "source": [
    "if x >5:\n",
    "    print(\"x > 5\")\n",
    "elif x <5:\n",
    "    print(\"x <= 5\")\n",
    "else:\n",
    "    print(\"x == 5\")"
   ]
  },
  {
   "cell_type": "code",
   "execution_count": 4,
   "id": "5e86b72e",
   "metadata": {},
   "outputs": [
    {
     "name": "stdout",
     "output_type": "stream",
     "text": [
      "x <= 5\n",
      "x == 3\n"
     ]
    }
   ],
   "source": [
    "if x >5:\n",
    "    print(\"x > 5\")\n",
    "elif x <5:\n",
    "    print(\"x <= 5\")\n",
    "    if x==3:\n",
    "        print(\"x == 3\")\n",
    "    else:\n",
    "        print(\"invalid\")\n",
    "else:\n",
    "    print(\"x == 5\")"
   ]
  },
  {
   "cell_type": "code",
   "execution_count": 5,
   "id": "21011bf3",
   "metadata": {},
   "outputs": [
    {
     "name": "stdout",
     "output_type": "stream",
     "text": [
      "a\n",
      "b\n",
      "c\n"
     ]
    }
   ],
   "source": [
    "for i in 'abc':\n",
    "    print(i)"
   ]
  },
  {
   "cell_type": "code",
   "execution_count": 6,
   "id": "5b5cb6e5",
   "metadata": {},
   "outputs": [
    {
     "name": "stdout",
     "output_type": "stream",
     "text": [
      "a\n",
      "b\n",
      "c\n"
     ]
    }
   ],
   "source": [
    "for i in ['a','b','c']:\n",
    "    print(i)"
   ]
  },
  {
   "cell_type": "code",
   "execution_count": 9,
   "id": "950a5880",
   "metadata": {},
   "outputs": [
    {
     "name": "stdout",
     "output_type": "stream",
     "text": [
      "10\n"
     ]
    }
   ],
   "source": [
    "total = 0\n",
    "for i in range(5): #range(n) ->0.... n-1\n",
    "    #total = total +i\n",
    "    total += i\n",
    "    \n",
    "print(total)"
   ]
  },
  {
   "cell_type": "code",
   "execution_count": 10,
   "id": "8d4938bf",
   "metadata": {},
   "outputs": [
    {
     "name": "stdout",
     "output_type": "stream",
     "text": [
      "4\n"
     ]
    }
   ],
   "source": [
    "total = 0\n",
    "for i,j in [(1,2),(3,1)]:\n",
    "    total = total +i**j\n",
    "    \n",
    "print(total)"
   ]
  },
  {
   "cell_type": "code",
   "execution_count": 11,
   "id": "d7316763",
   "metadata": {},
   "outputs": [
    {
     "name": "stdout",
     "output_type": "stream",
     "text": [
      "[1, 2, 3]\n",
      "[4, 5, 6]\n",
      "[7, 8, 9]\n"
     ]
    }
   ],
   "source": [
    "list1 = [[1,2,3],[4,5,6],[7,8,9]]\n",
    "for i in list1:\n",
    "    print(i)"
   ]
  },
  {
   "cell_type": "code",
   "execution_count": 15,
   "id": "4bb54231",
   "metadata": {},
   "outputs": [
    {
     "name": "stdout",
     "output_type": "stream",
     "text": [
      "45\n"
     ]
    }
   ],
   "source": [
    "total =0\n",
    "list1 = [[1,2,3],[4,5,6],[7,8,9]]\n",
    "for sublist in list1:\n",
    "    for j in sublist:\n",
    "        total += j\n",
    "\n",
    "print(total)"
   ]
  },
  {
   "cell_type": "code",
   "execution_count": 16,
   "id": "70a7106f",
   "metadata": {},
   "outputs": [
    {
     "name": "stdout",
     "output_type": "stream",
     "text": [
      "c;b;a;"
     ]
    }
   ],
   "source": [
    "for i in reversed(\"abc\"):\n",
    "    print(i,end=\";\")"
   ]
  },
  {
   "cell_type": "code",
   "execution_count": 17,
   "id": "d48a1d51",
   "metadata": {},
   "outputs": [
    {
     "name": "stdout",
     "output_type": "stream",
     "text": [
      "0 = a\n",
      "1 = b\n",
      "2 = c\n"
     ]
    }
   ],
   "source": [
    "for i,j in enumerate(\"abc\"):\n",
    "    print(i, \"=\",j)"
   ]
  },
  {
   "cell_type": "code",
   "execution_count": 18,
   "id": "9303488f",
   "metadata": {},
   "outputs": [
    {
     "name": "stdout",
     "output_type": "stream",
     "text": [
      "a : x\n",
      "b : y\n",
      "c : z\n"
     ]
    }
   ],
   "source": [
    "for i,j in zip(\"abc\",\"xyz\"):\n",
    "    print(i,\":\",j)"
   ]
  },
  {
   "cell_type": "code",
   "execution_count": 19,
   "id": "ad5e028d",
   "metadata": {},
   "outputs": [
    {
     "name": "stdout",
     "output_type": "stream",
     "text": [
      "0\n",
      "1\n",
      "4\n",
      "9\n",
      "16\n"
     ]
    }
   ],
   "source": [
    "i = 0\n",
    "\n",
    "while i < 5:\n",
    "    print(i ** 2)\n",
    "    i += 1"
   ]
  },
  {
   "cell_type": "code",
   "execution_count": 22,
   "id": "1afc2eb7",
   "metadata": {},
   "outputs": [
    {
     "name": "stdout",
     "output_type": "stream",
     "text": [
      "0\n",
      "1\n",
      "4\n",
      "9\n",
      "16\n",
      "End of while loop\n"
     ]
    }
   ],
   "source": [
    "i = 0\n",
    "\n",
    "while i < 5:\n",
    "    print(i ** 2)\n",
    "    i += 1\n",
    "else:\n",
    "    print(\"End of while loop\")"
   ]
  },
  {
   "cell_type": "code",
   "execution_count": 24,
   "id": "0c1deb8d",
   "metadata": {},
   "outputs": [
    {
     "name": "stdout",
     "output_type": "stream",
     "text": [
      "0\n",
      "1\n",
      "2\n",
      "3\n",
      "4\n",
      "5\n",
      "6\n",
      "7\n"
     ]
    }
   ],
   "source": [
    "for i in range(100):\n",
    "    print(i)\n",
    "    if i >= 7:\n",
    "        break"
   ]
  },
  {
   "cell_type": "code",
   "execution_count": 26,
   "id": "7775e426",
   "metadata": {},
   "outputs": [
    {
     "name": "stdout",
     "output_type": "stream",
     "text": [
      "Processed:  0\n",
      "Processed:  1\n",
      "Processed:  2\n",
      "Processed:  3\n",
      "Processed:  4\n",
      "Skip this iteration:  5\n",
      "Processed:  6\n",
      "Processed:  7\n",
      "Processed:  8\n",
      "Processed:  9\n"
     ]
    }
   ],
   "source": [
    "for i in range(10):\n",
    "    if i == 5:\n",
    "        print(\"Skip this iteration: \",i)\n",
    "        continue\n",
    "    print (\"Processed: \",i)"
   ]
  },
  {
   "cell_type": "code",
   "execution_count": 28,
   "id": "72e8cc6f",
   "metadata": {},
   "outputs": [
    {
     "name": "stdout",
     "output_type": "stream",
     "text": [
      "0.5\n",
      "0.6666666666666666\n",
      "Error!\n"
     ]
    }
   ],
   "source": [
    "try:\n",
    "    for i in [2,1.5,0,3]:\n",
    "        inverse = 1/i\n",
    "        print(inverse)\n",
    "        \n",
    "except:\n",
    "    print(\"Error!\")"
   ]
  },
  {
   "cell_type": "code",
   "execution_count": 29,
   "id": "b112e3ac",
   "metadata": {},
   "outputs": [
    {
     "name": "stdout",
     "output_type": "stream",
     "text": [
      "0.5\n",
      "0.6666666666666666\n",
      "Caught exception:  Division by zero!\n"
     ]
    }
   ],
   "source": [
    "try:\n",
    "    for i in [2,1.5,0,3]:\n",
    "        if i == 0:\n",
    "            raise Exception(\"Division by zero!\")\n",
    "        inverse = 1/i\n",
    "        print(inverse)\n",
    "        \n",
    "except Exception as e:\n",
    "    print(\"Caught exception: \",e)"
   ]
  },
  {
   "cell_type": "code",
   "execution_count": 30,
   "id": "ba25d8eb",
   "metadata": {},
   "outputs": [
    {
     "name": "stdout",
     "output_type": "stream",
     "text": [
      "Hello Jack\n",
      "Jack, good day!\n"
     ]
    }
   ],
   "source": [
    "print(\"Hello Jack\")\n",
    "print(\"Jack, good day!\")"
   ]
  },
  {
   "cell_type": "code",
   "execution_count": 31,
   "id": "511b9839",
   "metadata": {},
   "outputs": [],
   "source": [
    "def firstfunc():\n",
    "    print(\"Hello Jack\")\n",
    "    print(\"Jack, good day!\")"
   ]
  },
  {
   "cell_type": "code",
   "execution_count": 33,
   "id": "3736128e",
   "metadata": {},
   "outputs": [
    {
     "name": "stdout",
     "output_type": "stream",
     "text": [
      "Hello Jack\n",
      "Jack, good day!\n"
     ]
    }
   ],
   "source": [
    "firstfunc()"
   ]
  },
  {
   "cell_type": "code",
   "execution_count": 34,
   "id": "e0b27ed2",
   "metadata": {},
   "outputs": [],
   "source": [
    "def firstfunc(username):\n",
    "    print(\"Hello {}\".format(username))\n",
    "    print(\"{}, good day!\".format(username))"
   ]
  },
  {
   "cell_type": "code",
   "execution_count": 35,
   "id": "a11fdf54",
   "metadata": {
    "scrolled": true
   },
   "outputs": [
    {
     "name": "stdout",
     "output_type": "stream",
     "text": [
      "Hello jojo\n",
      "jojo, good day!\n"
     ]
    }
   ],
   "source": [
    "firstfunc(\"jojo\")"
   ]
  },
  {
   "cell_type": "code",
   "execution_count": 41,
   "id": "31b7b2a8",
   "metadata": {},
   "outputs": [],
   "source": [
    "def multiply(x,y):\n",
    "    '''This function multiply two variables.'''\n",
    "    #z = x*y\n",
    "    #return z\n",
    "    return x*y"
   ]
  },
  {
   "cell_type": "code",
   "execution_count": 39,
   "id": "e889c795",
   "metadata": {
    "scrolled": true
   },
   "outputs": [
    {
     "data": {
      "text/plain": [
       "6"
      ]
     },
     "execution_count": 39,
     "metadata": {},
     "output_type": "execute_result"
    }
   ],
   "source": [
    "a = multiply(2,3)\n",
    "a"
   ]
  },
  {
   "cell_type": "code",
   "execution_count": 42,
   "id": "d7a97d7c",
   "metadata": {},
   "outputs": [
    {
     "name": "stdout",
     "output_type": "stream",
     "text": [
      "Help on function multiply in module __main__:\n",
      "\n",
      "multiply(x, y)\n",
      "    This function multiply two variables.\n",
      "\n"
     ]
    }
   ],
   "source": [
    "help(multiply)"
   ]
  },
  {
   "cell_type": "code",
   "execution_count": 44,
   "id": "b0ea78ac",
   "metadata": {},
   "outputs": [],
   "source": [
    "list1 = [30,20,50,15,5,100]"
   ]
  },
  {
   "cell_type": "code",
   "execution_count": 46,
   "id": "bc7bf511",
   "metadata": {},
   "outputs": [],
   "source": [
    "def func1(alist):\n",
    "    highest = max(alist)\n",
    "    lowest = min(alist)\n",
    "    first = alist[0]\n",
    "    last = alist[-1]\n",
    "    return highest,lowest,first,last"
   ]
  },
  {
   "cell_type": "code",
   "execution_count": 47,
   "id": "afd420cb",
   "metadata": {},
   "outputs": [
    {
     "data": {
      "text/plain": [
       "(100, 5, 30, 100)"
      ]
     },
     "execution_count": 47,
     "metadata": {},
     "output_type": "execute_result"
    }
   ],
   "source": [
    "func1(list1)"
   ]
  },
  {
   "cell_type": "code",
   "execution_count": 50,
   "id": "fd06ac95",
   "metadata": {},
   "outputs": [
    {
     "name": "stdout",
     "output_type": "stream",
     "text": [
      "Highest= 100 Lowest= 5 First= 30 Last= 100\n"
     ]
    }
   ],
   "source": [
    "(a,b,c,d) = func1(list1)\n",
    "\n",
    "print(\"Highest=\",a,\"Lowest=\",b,\"First=\",c,\"Last=\",d)"
   ]
  },
  {
   "cell_type": "code",
   "execution_count": 51,
   "id": "151ef273",
   "metadata": {},
   "outputs": [],
   "source": [
    "def implicitadd(x,y=3,z=0):\n",
    "    print(\"{} + {} + {} = {}\".format(x,y,z,x+y+z))\n",
    "    return x+y+z"
   ]
  },
  {
   "cell_type": "code",
   "execution_count": 52,
   "id": "20e620c4",
   "metadata": {},
   "outputs": [
    {
     "name": "stdout",
     "output_type": "stream",
     "text": [
      "3 + 3 + 0 = 6\n"
     ]
    },
    {
     "data": {
      "text/plain": [
       "6"
      ]
     },
     "execution_count": 52,
     "metadata": {},
     "output_type": "execute_result"
    }
   ],
   "source": [
    "implicitadd(3)"
   ]
  },
  {
   "cell_type": "code",
   "execution_count": 53,
   "id": "e2a8955e",
   "metadata": {},
   "outputs": [
    {
     "name": "stdout",
     "output_type": "stream",
     "text": [
      "3 + 4 + 0 = 7\n"
     ]
    },
    {
     "data": {
      "text/plain": [
       "7"
      ]
     },
     "execution_count": 53,
     "metadata": {},
     "output_type": "execute_result"
    }
   ],
   "source": [
    "implicitadd(3,4)"
   ]
  },
  {
   "cell_type": "code",
   "execution_count": 54,
   "id": "59872dd2",
   "metadata": {},
   "outputs": [
    {
     "name": "stdout",
     "output_type": "stream",
     "text": [
      "3 + 4 + 5 = 12\n"
     ]
    },
    {
     "data": {
      "text/plain": [
       "12"
      ]
     },
     "execution_count": 54,
     "metadata": {},
     "output_type": "execute_result"
    }
   ],
   "source": [
    "implicitadd(3,4,5)"
   ]
  },
  {
   "cell_type": "code",
   "execution_count": 55,
   "id": "670e42ed",
   "metadata": {},
   "outputs": [
    {
     "name": "stdout",
     "output_type": "stream",
     "text": [
      "3 + 3 + 5 = 11\n"
     ]
    },
    {
     "data": {
      "text/plain": [
       "11"
      ]
     },
     "execution_count": 55,
     "metadata": {},
     "output_type": "execute_result"
    }
   ],
   "source": [
    "implicitadd(3,z=5)"
   ]
  },
  {
   "cell_type": "code",
   "execution_count": 57,
   "id": "32a1e03c",
   "metadata": {},
   "outputs": [],
   "source": [
    "def add_n(first,*args):\n",
    "    alist = [first] + [i for i in args]\n",
    "    print(alist)\n",
    "    return sum(alist)"
   ]
  },
  {
   "cell_type": "code",
   "execution_count": 58,
   "id": "7f6fc588",
   "metadata": {},
   "outputs": [
    {
     "name": "stdout",
     "output_type": "stream",
     "text": [
      "[2]\n"
     ]
    },
    {
     "data": {
      "text/plain": [
       "2"
      ]
     },
     "execution_count": 58,
     "metadata": {},
     "output_type": "execute_result"
    }
   ],
   "source": [
    "add_n(2)"
   ]
  },
  {
   "cell_type": "code",
   "execution_count": 59,
   "id": "28e120c5",
   "metadata": {},
   "outputs": [
    {
     "name": "stdout",
     "output_type": "stream",
     "text": [
      "[1, 2, 3, 4, 5]\n"
     ]
    },
    {
     "data": {
      "text/plain": [
       "15"
      ]
     },
     "execution_count": 59,
     "metadata": {},
     "output_type": "execute_result"
    }
   ],
   "source": [
    "add_n(1,2,3,4,5)"
   ]
  },
  {
   "cell_type": "code",
   "execution_count": 62,
   "id": "946afc32",
   "metadata": {},
   "outputs": [],
   "source": [
    "def func1():\n",
    "    x=1\n",
    "    def func2():\n",
    "        x=2\n",
    "        print(\"x in func2: \",x)\n",
    "    func2()\n",
    "    \n",
    "    print(\"x in func1: \",x)"
   ]
  },
  {
   "cell_type": "code",
   "execution_count": 63,
   "id": "93ea8fe1",
   "metadata": {},
   "outputs": [
    {
     "name": "stdout",
     "output_type": "stream",
     "text": [
      "x in func2:  2\n",
      "x in func1:  1\n"
     ]
    }
   ],
   "source": [
    "func1()"
   ]
  },
  {
   "cell_type": "code",
   "execution_count": 64,
   "id": "690cbb1b",
   "metadata": {},
   "outputs": [],
   "source": [
    "def func1():\n",
    "    x=1\n",
    "    def func2():\n",
    "        global x\n",
    "        x=2\n",
    "        print(\"x in func2: \",x)\n",
    "    func2()\n",
    "    \n",
    "    print(\"x in func1: \",x)"
   ]
  },
  {
   "cell_type": "code",
   "execution_count": 65,
   "id": "842bf372",
   "metadata": {},
   "outputs": [
    {
     "name": "stdout",
     "output_type": "stream",
     "text": [
      "x in func2:  2\n",
      "x in func1:  1\n"
     ]
    }
   ],
   "source": [
    "func1()"
   ]
  },
  {
   "cell_type": "code",
   "execution_count": 66,
   "id": "3491dc5e",
   "metadata": {},
   "outputs": [
    {
     "data": {
      "text/plain": [
       "2"
      ]
     },
     "execution_count": 66,
     "metadata": {},
     "output_type": "execute_result"
    }
   ],
   "source": [
    "x\n"
   ]
  },
  {
   "cell_type": "code",
   "execution_count": 67,
   "id": "1d53acf8",
   "metadata": {},
   "outputs": [],
   "source": [
    "z = lambda x: x*x"
   ]
  },
  {
   "cell_type": "code",
   "execution_count": 68,
   "id": "db264011",
   "metadata": {},
   "outputs": [
    {
     "data": {
      "text/plain": [
       "function"
      ]
     },
     "execution_count": 68,
     "metadata": {},
     "output_type": "execute_result"
    }
   ],
   "source": [
    "type(z)"
   ]
  },
  {
   "cell_type": "code",
   "execution_count": 69,
   "id": "007c3ea7",
   "metadata": {},
   "outputs": [
    {
     "data": {
      "text/plain": [
       "64"
      ]
     },
     "execution_count": 69,
     "metadata": {},
     "output_type": "execute_result"
    }
   ],
   "source": [
    "z(8)"
   ]
  },
  {
   "cell_type": "code",
   "execution_count": 70,
   "id": "128c39f7",
   "metadata": {},
   "outputs": [],
   "source": [
    "def double(x):\n",
    "    return 2*x\n",
    "\n",
    "def square(x):\n",
    "    return x*x\n",
    "\n",
    "def f_of_g(f,g):\n",
    "    return lambda x : f(g(x))"
   ]
  },
  {
   "cell_type": "code",
   "execution_count": 71,
   "id": "53f267f0",
   "metadata": {},
   "outputs": [],
   "source": [
    "doublesquare = f_of_g(double,square)"
   ]
  },
  {
   "cell_type": "code",
   "execution_count": 72,
   "id": "ae202161",
   "metadata": {},
   "outputs": [
    {
     "data": {
      "text/plain": [
       "18"
      ]
     },
     "execution_count": 72,
     "metadata": {},
     "output_type": "execute_result"
    }
   ],
   "source": [
    "doublesquare(3)"
   ]
  },
  {
   "cell_type": "code",
   "execution_count": null,
   "id": "7805ef9e",
   "metadata": {},
   "outputs": [],
   "source": []
  }
 ],
 "metadata": {
  "kernelspec": {
   "display_name": "Python 3 (ipykernel)",
   "language": "python",
   "name": "python3"
  },
  "language_info": {
   "codemirror_mode": {
    "name": "ipython",
    "version": 3
   },
   "file_extension": ".py",
   "mimetype": "text/x-python",
   "name": "python",
   "nbconvert_exporter": "python",
   "pygments_lexer": "ipython3",
   "version": "3.9.13"
  }
 },
 "nbformat": 4,
 "nbformat_minor": 5
}
